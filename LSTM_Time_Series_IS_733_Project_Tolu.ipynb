{
  "cells": [
    {
      "cell_type": "markdown",
      "metadata": {
        "id": "IunF7xqHXJCT"
      },
      "source": [
        "1. Visualize the time series\n",
        "2. Stationaries the series\n",
        "3. Plot ACF/PACF charts and find optimal parameters\n",
        "4. Build the ARIMA model\n",
        "5. Make predictions\n"
      ]
    },
    {
      "cell_type": "markdown",
      "metadata": {
        "id": "dXnRZ5QyXI-R"
      },
      "source": [
        "Loading packages for preprocessing and data visualization "
      ]
    },
    {
      "cell_type": "code",
      "execution_count": null,
      "metadata": {
        "id": "lOhyIymvFQV1"
      },
      "outputs": [],
      "source": [
        "import pandas as pd\n",
        "import numpy as np\n",
        "import matplotlib.pyplot as plt\n",
        "%matplotlib inline\n",
        " "
      ]
    },
    {
      "cell_type": "markdown",
      "source": [
        "Setting up the enviroment"
      ],
      "metadata": {
        "id": "bsSjbe6xuJL-"
      }
    },
    {
      "cell_type": "code",
      "source": [
        "import tensorflow as tf\n",
        "import theano\n",
        "import keras\n",
        "import scipy \n",
        "import statsmodels\n",
        "import sklearn\n",
        "import os"
      ],
      "metadata": {
        "id": "xuvc3CCwuHtN"
      },
      "execution_count": null,
      "outputs": []
    },
    {
      "cell_type": "code",
      "source": [
        "from keras.layers import Dense, Embedding\n",
        "from keras.models import Sequential\n",
        "from tensorflow.keras.utils import to_categorical\n",
        "from tensorflow.keras.optimizers import SGD \n",
        "from keras.callbacks import EarlyStopping\n",
        "from keras.utils import np_utils\n",
        "import itertools\n",
        "from keras.layers import LSTM\n",
        "from keras.layers.convolutional import Conv1D\n",
        "from keras.layers.convolutional import MaxPooling1D\n",
        "from keras.layers import Dropout"
      ],
      "metadata": {
        "id": "2CYeXG8wKK5t"
      },
      "execution_count": null,
      "outputs": []
    },
    {
      "cell_type": "code",
      "source": [
        "from sklearn import metrics # for the check the error and accuracy of the model\n",
        "from sklearn.metrics import mean_squared_error,r2_score\n"
      ],
      "metadata": {
        "id": "NqhGI63fLKZj"
      },
      "execution_count": null,
      "outputs": []
    },
    {
      "cell_type": "code",
      "execution_count": null,
      "metadata": {
        "id": "56fPCILVXJCW"
      },
      "outputs": [],
      "source": [
        "import warnings\n",
        "warnings.filterwarnings('ignore')"
      ]
    },
    {
      "cell_type": "markdown",
      "metadata": {
        "id": "_9-cPQKGXI-y"
      },
      "source": [
        "Loading the 2 datasets "
      ]
    },
    {
      "cell_type": "code",
      "source": [
        "from google.colab import drive\n",
        "drive.mount('/content/drive')"
      ],
      "metadata": {
        "colab": {
          "base_uri": "https://localhost:8080/"
        },
        "id": "Yag8zlMog5-e",
        "outputId": "4a254f9b-ad2c-4789-a2da-696dbd67d571"
      },
      "execution_count": null,
      "outputs": [
        {
          "output_type": "stream",
          "name": "stdout",
          "text": [
            "Mounted at /content/drive\n"
          ]
        }
      ]
    },
    {
      "cell_type": "code",
      "execution_count": null,
      "metadata": {
        "id": "PgZGI4kWXJB9"
      },
      "outputs": [],
      "source": [
        "df= pd.read_csv('/content/drive/My Drive/Dataset/out.csv', index_col = 2, parse_dates=True)\n",
        "df.index.freq='MS'"
      ]
    },
    {
      "cell_type": "code",
      "execution_count": null,
      "metadata": {
        "colab": {
          "base_uri": "https://localhost:8080/",
          "height": 455
        },
        "id": "1Wu7-oQKXJB_",
        "outputId": "2c17adc7-f336-4a8b-fcce-057465a58157"
      },
      "outputs": [
        {
          "output_type": "execute_result",
          "data": {
            "text/plain": [
              "                           Unnamed: 0 turbines  pitch_angle  output_power  \\\n",
              "Date_time                                                                   \n",
              "2013-01-01 00:00:00+01:00           0   R80721        -1.01     684.15997   \n",
              "2013-01-01 00:00:00+01:00           1   R80736        -1.00     804.21997   \n",
              "2013-01-01 00:00:00+01:00           2   R80790        -0.98    1093.81990   \n",
              "2013-01-01 00:00:00+01:00           3   R80711        -1.00    1072.79000   \n",
              "2013-01-01 00:10:00+01:00           4   R80711        -1.00    1061.75000   \n",
              "...                               ...      ...          ...           ...   \n",
              "2018-01-12 23:20:00+01:00      777706   R80736        -0.64      54.67000   \n",
              "2018-01-12 23:20:00+01:00      777707   R80711        -0.83      70.40000   \n",
              "2018-01-12 23:30:00+01:00      777708   R80790        -0.07      28.18000   \n",
              "2018-01-12 23:30:00+01:00      777709   R80711        -0.15      27.88000   \n",
              "2018-01-13 00:00:00+01:00      777710   R80711        -0.06      29.01000   \n",
              "\n",
              "                           generator_speed  gearbox_inlet_temp  nacelle_angle  \\\n",
              "Date_time                                                                       \n",
              "2013-01-01 00:00:00+01:00          1714.71           44.700001      165.10001   \n",
              "2013-01-01 00:00:00+01:00          1776.53           49.480000      286.00000   \n",
              "2013-01-01 00:00:00+01:00          1800.01           48.369999      175.59000   \n",
              "2013-01-01 00:00:00+01:00          1799.91           48.369999      161.44000   \n",
              "2013-01-01 00:10:00+01:00          1798.88           55.080002      161.44000   \n",
              "...                                    ...                 ...            ...   \n",
              "2018-01-12 23:20:00+01:00           973.69           49.880000       49.63000   \n",
              "2018-01-12 23:20:00+01:00           996.08           55.480000       55.98000   \n",
              "2018-01-12 23:30:00+01:00           970.00           52.020000       68.05000   \n",
              "2018-01-12 23:30:00+01:00           969.98           55.250000       55.98000   \n",
              "2018-01-13 00:00:00+01:00           970.11           54.900000       55.98000   \n",
              "\n",
              "                           wind_speed  wind_direction  temperature  \\\n",
              "Date_time                                                            \n",
              "2013-01-01 00:00:00+01:00        7.25       163.16000         5.72   \n",
              "2013-01-01 00:00:00+01:00        7.64       286.19000         5.44   \n",
              "2013-01-01 00:00:00+01:00        8.56       175.05000         5.48   \n",
              "2013-01-01 00:00:00+01:00        8.96       165.25000         5.09   \n",
              "2013-01-01 00:10:00+01:00        8.89       168.28999         5.26   \n",
              "...                               ...             ...          ...   \n",
              "2018-01-12 23:20:00+01:00        4.27        40.63000         3.76   \n",
              "2018-01-12 23:20:00+01:00        4.26        61.01000         3.82   \n",
              "2018-01-12 23:30:00+01:00        3.69        58.53000         3.52   \n",
              "2018-01-12 23:30:00+01:00        3.58        56.38000         3.62   \n",
              "2018-01-13 00:00:00+01:00        3.52        60.66000         2.58   \n",
              "\n",
              "                           rotor_speed  \n",
              "Date_time                               \n",
              "2013-01-01 00:00:00+01:00    16.360001  \n",
              "2013-01-01 00:00:00+01:00    16.950001  \n",
              "2013-01-01 00:00:00+01:00    17.180000  \n",
              "2013-01-01 00:00:00+01:00    17.180000  \n",
              "2013-01-01 00:10:00+01:00    17.170000  \n",
              "...                                ...  \n",
              "2018-01-12 23:20:00+01:00     9.270000  \n",
              "2018-01-12 23:20:00+01:00     9.480000  \n",
              "2018-01-12 23:30:00+01:00     9.230000  \n",
              "2018-01-12 23:30:00+01:00     9.230000  \n",
              "2018-01-13 00:00:00+01:00     9.230000  \n",
              "\n",
              "[777711 rows x 11 columns]"
            ],
            "text/html": [
              "\n",
              "  <div id=\"df-c818c5a9-7b4b-4bd4-a768-328769bf5508\">\n",
              "    <div class=\"colab-df-container\">\n",
              "      <div>\n",
              "<style scoped>\n",
              "    .dataframe tbody tr th:only-of-type {\n",
              "        vertical-align: middle;\n",
              "    }\n",
              "\n",
              "    .dataframe tbody tr th {\n",
              "        vertical-align: top;\n",
              "    }\n",
              "\n",
              "    .dataframe thead th {\n",
              "        text-align: right;\n",
              "    }\n",
              "</style>\n",
              "<table border=\"1\" class=\"dataframe\">\n",
              "  <thead>\n",
              "    <tr style=\"text-align: right;\">\n",
              "      <th></th>\n",
              "      <th>Unnamed: 0</th>\n",
              "      <th>turbines</th>\n",
              "      <th>pitch_angle</th>\n",
              "      <th>output_power</th>\n",
              "      <th>generator_speed</th>\n",
              "      <th>gearbox_inlet_temp</th>\n",
              "      <th>nacelle_angle</th>\n",
              "      <th>wind_speed</th>\n",
              "      <th>wind_direction</th>\n",
              "      <th>temperature</th>\n",
              "      <th>rotor_speed</th>\n",
              "    </tr>\n",
              "    <tr>\n",
              "      <th>Date_time</th>\n",
              "      <th></th>\n",
              "      <th></th>\n",
              "      <th></th>\n",
              "      <th></th>\n",
              "      <th></th>\n",
              "      <th></th>\n",
              "      <th></th>\n",
              "      <th></th>\n",
              "      <th></th>\n",
              "      <th></th>\n",
              "      <th></th>\n",
              "    </tr>\n",
              "  </thead>\n",
              "  <tbody>\n",
              "    <tr>\n",
              "      <th>2013-01-01 00:00:00+01:00</th>\n",
              "      <td>0</td>\n",
              "      <td>R80721</td>\n",
              "      <td>-1.01</td>\n",
              "      <td>684.15997</td>\n",
              "      <td>1714.71</td>\n",
              "      <td>44.700001</td>\n",
              "      <td>165.10001</td>\n",
              "      <td>7.25</td>\n",
              "      <td>163.16000</td>\n",
              "      <td>5.72</td>\n",
              "      <td>16.360001</td>\n",
              "    </tr>\n",
              "    <tr>\n",
              "      <th>2013-01-01 00:00:00+01:00</th>\n",
              "      <td>1</td>\n",
              "      <td>R80736</td>\n",
              "      <td>-1.00</td>\n",
              "      <td>804.21997</td>\n",
              "      <td>1776.53</td>\n",
              "      <td>49.480000</td>\n",
              "      <td>286.00000</td>\n",
              "      <td>7.64</td>\n",
              "      <td>286.19000</td>\n",
              "      <td>5.44</td>\n",
              "      <td>16.950001</td>\n",
              "    </tr>\n",
              "    <tr>\n",
              "      <th>2013-01-01 00:00:00+01:00</th>\n",
              "      <td>2</td>\n",
              "      <td>R80790</td>\n",
              "      <td>-0.98</td>\n",
              "      <td>1093.81990</td>\n",
              "      <td>1800.01</td>\n",
              "      <td>48.369999</td>\n",
              "      <td>175.59000</td>\n",
              "      <td>8.56</td>\n",
              "      <td>175.05000</td>\n",
              "      <td>5.48</td>\n",
              "      <td>17.180000</td>\n",
              "    </tr>\n",
              "    <tr>\n",
              "      <th>2013-01-01 00:00:00+01:00</th>\n",
              "      <td>3</td>\n",
              "      <td>R80711</td>\n",
              "      <td>-1.00</td>\n",
              "      <td>1072.79000</td>\n",
              "      <td>1799.91</td>\n",
              "      <td>48.369999</td>\n",
              "      <td>161.44000</td>\n",
              "      <td>8.96</td>\n",
              "      <td>165.25000</td>\n",
              "      <td>5.09</td>\n",
              "      <td>17.180000</td>\n",
              "    </tr>\n",
              "    <tr>\n",
              "      <th>2013-01-01 00:10:00+01:00</th>\n",
              "      <td>4</td>\n",
              "      <td>R80711</td>\n",
              "      <td>-1.00</td>\n",
              "      <td>1061.75000</td>\n",
              "      <td>1798.88</td>\n",
              "      <td>55.080002</td>\n",
              "      <td>161.44000</td>\n",
              "      <td>8.89</td>\n",
              "      <td>168.28999</td>\n",
              "      <td>5.26</td>\n",
              "      <td>17.170000</td>\n",
              "    </tr>\n",
              "    <tr>\n",
              "      <th>...</th>\n",
              "      <td>...</td>\n",
              "      <td>...</td>\n",
              "      <td>...</td>\n",
              "      <td>...</td>\n",
              "      <td>...</td>\n",
              "      <td>...</td>\n",
              "      <td>...</td>\n",
              "      <td>...</td>\n",
              "      <td>...</td>\n",
              "      <td>...</td>\n",
              "      <td>...</td>\n",
              "    </tr>\n",
              "    <tr>\n",
              "      <th>2018-01-12 23:20:00+01:00</th>\n",
              "      <td>777706</td>\n",
              "      <td>R80736</td>\n",
              "      <td>-0.64</td>\n",
              "      <td>54.67000</td>\n",
              "      <td>973.69</td>\n",
              "      <td>49.880000</td>\n",
              "      <td>49.63000</td>\n",
              "      <td>4.27</td>\n",
              "      <td>40.63000</td>\n",
              "      <td>3.76</td>\n",
              "      <td>9.270000</td>\n",
              "    </tr>\n",
              "    <tr>\n",
              "      <th>2018-01-12 23:20:00+01:00</th>\n",
              "      <td>777707</td>\n",
              "      <td>R80711</td>\n",
              "      <td>-0.83</td>\n",
              "      <td>70.40000</td>\n",
              "      <td>996.08</td>\n",
              "      <td>55.480000</td>\n",
              "      <td>55.98000</td>\n",
              "      <td>4.26</td>\n",
              "      <td>61.01000</td>\n",
              "      <td>3.82</td>\n",
              "      <td>9.480000</td>\n",
              "    </tr>\n",
              "    <tr>\n",
              "      <th>2018-01-12 23:30:00+01:00</th>\n",
              "      <td>777708</td>\n",
              "      <td>R80790</td>\n",
              "      <td>-0.07</td>\n",
              "      <td>28.18000</td>\n",
              "      <td>970.00</td>\n",
              "      <td>52.020000</td>\n",
              "      <td>68.05000</td>\n",
              "      <td>3.69</td>\n",
              "      <td>58.53000</td>\n",
              "      <td>3.52</td>\n",
              "      <td>9.230000</td>\n",
              "    </tr>\n",
              "    <tr>\n",
              "      <th>2018-01-12 23:30:00+01:00</th>\n",
              "      <td>777709</td>\n",
              "      <td>R80711</td>\n",
              "      <td>-0.15</td>\n",
              "      <td>27.88000</td>\n",
              "      <td>969.98</td>\n",
              "      <td>55.250000</td>\n",
              "      <td>55.98000</td>\n",
              "      <td>3.58</td>\n",
              "      <td>56.38000</td>\n",
              "      <td>3.62</td>\n",
              "      <td>9.230000</td>\n",
              "    </tr>\n",
              "    <tr>\n",
              "      <th>2018-01-13 00:00:00+01:00</th>\n",
              "      <td>777710</td>\n",
              "      <td>R80711</td>\n",
              "      <td>-0.06</td>\n",
              "      <td>29.01000</td>\n",
              "      <td>970.11</td>\n",
              "      <td>54.900000</td>\n",
              "      <td>55.98000</td>\n",
              "      <td>3.52</td>\n",
              "      <td>60.66000</td>\n",
              "      <td>2.58</td>\n",
              "      <td>9.230000</td>\n",
              "    </tr>\n",
              "  </tbody>\n",
              "</table>\n",
              "<p>777711 rows × 11 columns</p>\n",
              "</div>\n",
              "      <button class=\"colab-df-convert\" onclick=\"convertToInteractive('df-c818c5a9-7b4b-4bd4-a768-328769bf5508')\"\n",
              "              title=\"Convert this dataframe to an interactive table.\"\n",
              "              style=\"display:none;\">\n",
              "        \n",
              "  <svg xmlns=\"http://www.w3.org/2000/svg\" height=\"24px\"viewBox=\"0 0 24 24\"\n",
              "       width=\"24px\">\n",
              "    <path d=\"M0 0h24v24H0V0z\" fill=\"none\"/>\n",
              "    <path d=\"M18.56 5.44l.94 2.06.94-2.06 2.06-.94-2.06-.94-.94-2.06-.94 2.06-2.06.94zm-11 1L8.5 8.5l.94-2.06 2.06-.94-2.06-.94L8.5 2.5l-.94 2.06-2.06.94zm10 10l.94 2.06.94-2.06 2.06-.94-2.06-.94-.94-2.06-.94 2.06-2.06.94z\"/><path d=\"M17.41 7.96l-1.37-1.37c-.4-.4-.92-.59-1.43-.59-.52 0-1.04.2-1.43.59L10.3 9.45l-7.72 7.72c-.78.78-.78 2.05 0 2.83L4 21.41c.39.39.9.59 1.41.59.51 0 1.02-.2 1.41-.59l7.78-7.78 2.81-2.81c.8-.78.8-2.07 0-2.86zM5.41 20L4 18.59l7.72-7.72 1.47 1.35L5.41 20z\"/>\n",
              "  </svg>\n",
              "      </button>\n",
              "      \n",
              "  <style>\n",
              "    .colab-df-container {\n",
              "      display:flex;\n",
              "      flex-wrap:wrap;\n",
              "      gap: 12px;\n",
              "    }\n",
              "\n",
              "    .colab-df-convert {\n",
              "      background-color: #E8F0FE;\n",
              "      border: none;\n",
              "      border-radius: 50%;\n",
              "      cursor: pointer;\n",
              "      display: none;\n",
              "      fill: #1967D2;\n",
              "      height: 32px;\n",
              "      padding: 0 0 0 0;\n",
              "      width: 32px;\n",
              "    }\n",
              "\n",
              "    .colab-df-convert:hover {\n",
              "      background-color: #E2EBFA;\n",
              "      box-shadow: 0px 1px 2px rgba(60, 64, 67, 0.3), 0px 1px 3px 1px rgba(60, 64, 67, 0.15);\n",
              "      fill: #174EA6;\n",
              "    }\n",
              "\n",
              "    [theme=dark] .colab-df-convert {\n",
              "      background-color: #3B4455;\n",
              "      fill: #D2E3FC;\n",
              "    }\n",
              "\n",
              "    [theme=dark] .colab-df-convert:hover {\n",
              "      background-color: #434B5C;\n",
              "      box-shadow: 0px 1px 3px 1px rgba(0, 0, 0, 0.15);\n",
              "      filter: drop-shadow(0px 1px 2px rgba(0, 0, 0, 0.3));\n",
              "      fill: #FFFFFF;\n",
              "    }\n",
              "  </style>\n",
              "\n",
              "      <script>\n",
              "        const buttonEl =\n",
              "          document.querySelector('#df-c818c5a9-7b4b-4bd4-a768-328769bf5508 button.colab-df-convert');\n",
              "        buttonEl.style.display =\n",
              "          google.colab.kernel.accessAllowed ? 'block' : 'none';\n",
              "\n",
              "        async function convertToInteractive(key) {\n",
              "          const element = document.querySelector('#df-c818c5a9-7b4b-4bd4-a768-328769bf5508');\n",
              "          const dataTable =\n",
              "            await google.colab.kernel.invokeFunction('convertToInteractive',\n",
              "                                                     [key], {});\n",
              "          if (!dataTable) return;\n",
              "\n",
              "          const docLinkHtml = 'Like what you see? Visit the ' +\n",
              "            '<a target=\"_blank\" href=https://colab.research.google.com/notebooks/data_table.ipynb>data table notebook</a>'\n",
              "            + ' to learn more about interactive tables.';\n",
              "          element.innerHTML = '';\n",
              "          dataTable['output_type'] = 'display_data';\n",
              "          await google.colab.output.renderOutput(dataTable, element);\n",
              "          const docLink = document.createElement('div');\n",
              "          docLink.innerHTML = docLinkHtml;\n",
              "          element.appendChild(docLink);\n",
              "        }\n",
              "      </script>\n",
              "    </div>\n",
              "  </div>\n",
              "  "
            ]
          },
          "metadata": {},
          "execution_count": 8
        }
      ],
      "source": [
        "df"
      ]
    },
    {
      "cell_type": "code",
      "source": [
        "#df.corr()"
      ],
      "metadata": {
        "id": "66pR65zwqaTa"
      },
      "execution_count": null,
      "outputs": []
    },
    {
      "cell_type": "markdown",
      "source": [
        "Dropping columns not included in the final features as predicted by the feature selection model"
      ],
      "metadata": {
        "id": "RPDcdNvInsC4"
      }
    },
    {
      "cell_type": "code",
      "execution_count": null,
      "metadata": {
        "id": "PlJ6Mpg1XJCA"
      },
      "outputs": [],
      "source": [
        "df = df.drop(['Unnamed: 0','turbines', 'gearbox_inlet_temp', 'nacelle_angle', 'wind_direction'], axis=1)"
      ]
    },
    {
      "cell_type": "code",
      "source": [
        "#df= pd.read_csv('/content/drive/My Drive/Dataset/combined_dataset.csv', index_col = 2, parse_dates=True)\n"
      ],
      "metadata": {
        "id": "SPQlRLHTuazs"
      },
      "execution_count": null,
      "outputs": []
    },
    {
      "cell_type": "code",
      "source": [
        "df.columns"
      ],
      "metadata": {
        "colab": {
          "base_uri": "https://localhost:8080/"
        },
        "id": "iQLK09AW2zaZ",
        "outputId": "5f68df3a-a137-42ca-8e93-7f98c5952a17"
      },
      "execution_count": null,
      "outputs": [
        {
          "output_type": "execute_result",
          "data": {
            "text/plain": [
              "Index(['pitch_angle', 'output_power', 'generator_speed', 'wind_speed',\n",
              "       'temperature', 'rotor_speed'],\n",
              "      dtype='object')"
            ]
          },
          "metadata": {},
          "execution_count": 12
        }
      ]
    },
    {
      "cell_type": "code",
      "source": [
        "#df.replace(np.nan,0, inplace=True)\n"
      ],
      "metadata": {
        "id": "GBEXQW5I56LO"
      },
      "execution_count": null,
      "outputs": []
    },
    {
      "cell_type": "code",
      "source": [
        "df['output_power'].plot()\n",
        "plt.show()"
      ],
      "metadata": {
        "colab": {
          "base_uri": "https://localhost:8080/",
          "height": 270
        },
        "id": "zZzEEXvr6s1O",
        "outputId": "6c09c7ea-3714-4081-b177-ed7dcdd233d3"
      },
      "execution_count": null,
      "outputs": [
        {
          "output_type": "display_data",
          "data": {
            "text/plain": [
              "<Figure size 432x288 with 1 Axes>"
            ],
            "image/png": "[encoded data removed]"
          },
          "metadata": {
            "needs_background": "light"
          }
        }
      ]
    },
    {
      "cell_type": "code",
      "source": [
        "df"
      ],
      "metadata": {
        "colab": {
          "base_uri": "https://localhost:8080/",
          "height": 455
        },
        "id": "RL4JRMclPBZY",
        "outputId": "3753c481-d792-4481-e24c-f5d2bb8b2797"
      },
      "execution_count": null,
      "outputs": [
        {
          "output_type": "execute_result",
          "data": {
            "text/plain": [
              "                           pitch_angle  output_power  generator_speed  \\\n",
              "Date_time                                                               \n",
              "2013-01-01 00:00:00+01:00        -1.01     684.15997          1714.71   \n",
              "2013-01-01 00:00:00+01:00        -1.00     804.21997          1776.53   \n",
              "2013-01-01 00:00:00+01:00        -0.98    1093.81990          1800.01   \n",
              "2013-01-01 00:00:00+01:00        -1.00    1072.79000          1799.91   \n",
              "2013-01-01 00:10:00+01:00        -1.00    1061.75000          1798.88   \n",
              "...                                ...           ...              ...   \n",
              "2018-01-12 23:20:00+01:00        -0.64      54.67000           973.69   \n",
              "2018-01-12 23:20:00+01:00        -0.83      70.40000           996.08   \n",
              "2018-01-12 23:30:00+01:00        -0.07      28.18000           970.00   \n",
              "2018-01-12 23:30:00+01:00        -0.15      27.88000           969.98   \n",
              "2018-01-13 00:00:00+01:00        -0.06      29.01000           970.11   \n",
              "\n",
              "                           wind_speed  temperature  rotor_speed  \n",
              "Date_time                                                        \n",
              "2013-01-01 00:00:00+01:00        7.25         5.72    16.360001  \n",
              "2013-01-01 00:00:00+01:00        7.64         5.44    16.950001  \n",
              "2013-01-01 00:00:00+01:00        8.56         5.48    17.180000  \n",
              "2013-01-01 00:00:00+01:00        8.96         5.09    17.180000  \n",
              "2013-01-01 00:10:00+01:00        8.89         5.26    17.170000  \n",
              "...                               ...          ...          ...  \n",
              "2018-01-12 23:20:00+01:00        4.27         3.76     9.270000  \n",
              "2018-01-12 23:20:00+01:00        4.26         3.82     9.480000  \n",
              "2018-01-12 23:30:00+01:00        3.69         3.52     9.230000  \n",
              "2018-01-12 23:30:00+01:00        3.58         3.62     9.230000  \n",
              "2018-01-13 00:00:00+01:00        3.52         2.58     9.230000  \n",
              "\n",
              "[777711 rows x 6 columns]"
            ],
            "text/html": [
              "\n",
              "  <div id=\"df-4b436b20-af77-470d-9dbc-facc5eb29679\">\n",
              "    <div class=\"colab-df-container\">\n",
              "      <div>\n",
              "<style scoped>\n",
              "    .dataframe tbody tr th:only-of-type {\n",
              "        vertical-align: middle;\n",
              "    }\n",
              "\n",
              "    .dataframe tbody tr th {\n",
              "        vertical-align: top;\n",
              "    }\n",
              "\n",
              "    .dataframe thead th {\n",
              "        text-align: right;\n",
              "    }\n",
              "</style>\n",
              "<table border=\"1\" class=\"dataframe\">\n",
              "  <thead>\n",
              "    <tr style=\"text-align: right;\">\n",
              "      <th></th>\n",
              "      <th>pitch_angle</th>\n",
              "      <th>output_power</th>\n",
              "      <th>generator_speed</th>\n",
              "      <th>wind_speed</th>\n",
              "      <th>temperature</th>\n",
              "      <th>rotor_speed</th>\n",
              "    </tr>\n",
              "    <tr>\n",
              "      <th>Date_time</th>\n",
              "      <th></th>\n",
              "      <th></th>\n",
              "      <th></th>\n",
              "      <th></th>\n",
              "      <th></th>\n",
              "      <th></th>\n",
              "    </tr>\n",
              "  </thead>\n",
              "  <tbody>\n",
              "    <tr>\n",
              "      <th>2013-01-01 00:00:00+01:00</th>\n",
              "      <td>-1.01</td>\n",
              "      <td>684.15997</td>\n",
              "      <td>1714.71</td>\n",
              "      <td>7.25</td>\n",
              "      <td>5.72</td>\n",
              "      <td>16.360001</td>\n",
              "    </tr>\n",
              "    <tr>\n",
              "      <th>2013-01-01 00:00:00+01:00</th>\n",
              "      <td>-1.00</td>\n",
              "      <td>804.21997</td>\n",
              "      <td>1776.53</td>\n",
              "      <td>7.64</td>\n",
              "      <td>5.44</td>\n",
              "      <td>16.950001</td>\n",
              "    </tr>\n",
              "    <tr>\n",
              "      <th>2013-01-01 00:00:00+01:00</th>\n",
              "      <td>-0.98</td>\n",
              "      <td>1093.81990</td>\n",
              "      <td>1800.01</td>\n",
              "      <td>8.56</td>\n",
              "      <td>5.48</td>\n",
              "      <td>17.180000</td>\n",
              "    </tr>\n",
              "    <tr>\n",
              "      <th>2013-01-01 00:00:00+01:00</th>\n",
              "      <td>-1.00</td>\n",
              "      <td>1072.79000</td>\n",
              "      <td>1799.91</td>\n",
              "      <td>8.96</td>\n",
              "      <td>5.09</td>\n",
              "      <td>17.180000</td>\n",
              "    </tr>\n",
              "    <tr>\n",
              "      <th>2013-01-01 00:10:00+01:00</th>\n",
              "      <td>-1.00</td>\n",
              "      <td>1061.75000</td>\n",
              "      <td>1798.88</td>\n",
              "      <td>8.89</td>\n",
              "      <td>5.26</td>\n",
              "      <td>17.170000</td>\n",
              "    </tr>\n",
              "    <tr>\n",
              "      <th>...</th>\n",
              "      <td>...</td>\n",
              "      <td>...</td>\n",
              "      <td>...</td>\n",
              "      <td>...</td>\n",
              "      <td>...</td>\n",
              "      <td>...</td>\n",
              "    </tr>\n",
              "    <tr>\n",
              "      <th>2018-01-12 23:20:00+01:00</th>\n",
              "      <td>-0.64</td>\n",
              "      <td>54.67000</td>\n",
              "      <td>973.69</td>\n",
              "      <td>4.27</td>\n",
              "      <td>3.76</td>\n",
              "      <td>9.270000</td>\n",
              "    </tr>\n",
              "    <tr>\n",
              "      <th>2018-01-12 23:20:00+01:00</th>\n",
              "      <td>-0.83</td>\n",
              "      <td>70.40000</td>\n",
              "      <td>996.08</td>\n",
              "      <td>4.26</td>\n",
              "      <td>3.82</td>\n",
              "      <td>9.480000</td>\n",
              "    </tr>\n",
              "    <tr>\n",
              "      <th>2018-01-12 23:30:00+01:00</th>\n",
              "      <td>-0.07</td>\n",
              "      <td>28.18000</td>\n",
              "      <td>970.00</td>\n",
              "      <td>3.69</td>\n",
              "      <td>3.52</td>\n",
              "      <td>9.230000</td>\n",
              "    </tr>\n",
              "    <tr>\n",
              "      <th>2018-01-12 23:30:00+01:00</th>\n",
              "      <td>-0.15</td>\n",
              "      <td>27.88000</td>\n",
              "      <td>969.98</td>\n",
              "      <td>3.58</td>\n",
              "      <td>3.62</td>\n",
              "      <td>9.230000</td>\n",
              "    </tr>\n",
              "    <tr>\n",
              "      <th>2018-01-13 00:00:00+01:00</th>\n",
              "      <td>-0.06</td>\n",
              "      <td>29.01000</td>\n",
              "      <td>970.11</td>\n",
              "      <td>3.52</td>\n",
              "      <td>2.58</td>\n",
              "      <td>9.230000</td>\n",
              "    </tr>\n",
              "  </tbody>\n",
              "</table>\n",
              "<p>777711 rows × 6 columns</p>\n",
              "</div>\n",
              "      <button class=\"colab-df-convert\" onclick=\"convertToInteractive('df-4b436b20-af77-470d-9dbc-facc5eb29679')\"\n",
              "              title=\"Convert this dataframe to an interactive table.\"\n",
              "              style=\"display:none;\">\n",
              "        \n",
              "  <svg xmlns=\"http://www.w3.org/2000/svg\" height=\"24px\"viewBox=\"0 0 24 24\"\n",
              "       width=\"24px\">\n",
              "    <path d=\"M0 0h24v24H0V0z\" fill=\"none\"/>\n",
              "    <path d=\"M18.56 5.44l.94 2.06.94-2.06 2.06-.94-2.06-.94-.94-2.06-.94 2.06-2.06.94zm-11 1L8.5 8.5l.94-2.06 2.06-.94-2.06-.94L8.5 2.5l-.94 2.06-2.06.94zm10 10l.94 2.06.94-2.06 2.06-.94-2.06-.94-.94-2.06-.94 2.06-2.06.94z\"/><path d=\"M17.41 7.96l-1.37-1.37c-.4-.4-.92-.59-1.43-.59-.52 0-1.04.2-1.43.59L10.3 9.45l-7.72 7.72c-.78.78-.78 2.05 0 2.83L4 21.41c.39.39.9.59 1.41.59.51 0 1.02-.2 1.41-.59l7.78-7.78 2.81-2.81c.8-.78.8-2.07 0-2.86zM5.41 20L4 18.59l7.72-7.72 1.47 1.35L5.41 20z\"/>\n",
              "  </svg>\n",
              "      </button>\n",
              "      \n",
              "  <style>\n",
              "    .colab-df-container {\n",
              "      display:flex;\n",
              "      flex-wrap:wrap;\n",
              "      gap: 12px;\n",
              "    }\n",
              "\n",
              "    .colab-df-convert {\n",
              "      background-color: #E8F0FE;\n",
              "      border: none;\n",
              "      border-radius: 50%;\n",
              "      cursor: pointer;\n",
              "      display: none;\n",
              "      fill: #1967D2;\n",
              "      height: 32px;\n",
              "      padding: 0 0 0 0;\n",
              "      width: 32px;\n",
              "    }\n",
              "\n",
              "    .colab-df-convert:hover {\n",
              "      background-color: #E2EBFA;\n",
              "      box-shadow: 0px 1px 2px rgba(60, 64, 67, 0.3), 0px 1px 3px 1px rgba(60, 64, 67, 0.15);\n",
              "      fill: #174EA6;\n",
              "    }\n",
              "\n",
              "    [theme=dark] .colab-df-convert {\n",
              "      background-color: #3B4455;\n",
              "      fill: #D2E3FC;\n",
              "    }\n",
              "\n",
              "    [theme=dark] .colab-df-convert:hover {\n",
              "      background-color: #434B5C;\n",
              "      box-shadow: 0px 1px 3px 1px rgba(0, 0, 0, 0.15);\n",
              "      filter: drop-shadow(0px 1px 2px rgba(0, 0, 0, 0.3));\n",
              "      fill: #FFFFFF;\n",
              "    }\n",
              "  </style>\n",
              "\n",
              "      <script>\n",
              "        const buttonEl =\n",
              "          document.querySelector('#df-4b436b20-af77-470d-9dbc-facc5eb29679 button.colab-df-convert');\n",
              "        buttonEl.style.display =\n",
              "          google.colab.kernel.accessAllowed ? 'block' : 'none';\n",
              "\n",
              "        async function convertToInteractive(key) {\n",
              "          const element = document.querySelector('#df-4b436b20-af77-470d-9dbc-facc5eb29679');\n",
              "          const dataTable =\n",
              "            await google.colab.kernel.invokeFunction('convertToInteractive',\n",
              "                                                     [key], {});\n",
              "          if (!dataTable) return;\n",
              "\n",
              "          const docLinkHtml = 'Like what you see? Visit the ' +\n",
              "            '<a target=\"_blank\" href=https://colab.research.google.com/notebooks/data_table.ipynb>data table notebook</a>'\n",
              "            + ' to learn more about interactive tables.';\n",
              "          element.innerHTML = '';\n",
              "          dataTable['output_type'] = 'display_data';\n",
              "          await google.colab.output.renderOutput(dataTable, element);\n",
              "          const docLink = document.createElement('div');\n",
              "          docLink.innerHTML = docLinkHtml;\n",
              "          element.appendChild(docLink);\n",
              "        }\n",
              "      </script>\n",
              "    </div>\n",
              "  </div>\n",
              "  "
            ]
          },
          "metadata": {},
          "execution_count": 15
        }
      ]
    },
    {
      "cell_type": "code",
      "source": [
        "df = df[['output_power','pitch_angle', 'generator_speed','wind_speed', 'temperature', 'rotor_speed']]"
      ],
      "metadata": {
        "id": "Od1lSbVaW9Z1"
      },
      "execution_count": null,
      "outputs": []
    },
    {
      "cell_type": "code",
      "source": [
        "df"
      ],
      "metadata": {
        "colab": {
          "base_uri": "https://localhost:8080/",
          "height": 455
        },
        "id": "NKoDKT2B9G_K",
        "outputId": "0fc60b19-00a3-4f69-8d54-427d5dca3955"
      },
      "execution_count": null,
      "outputs": [
        {
          "output_type": "execute_result",
          "data": {
            "text/plain": [
              "                           output_power  pitch_angle  generator_speed  \\\n",
              "Date_time                                                               \n",
              "2013-01-01 00:00:00+01:00     684.15997        -1.01          1714.71   \n",
              "2013-01-01 00:00:00+01:00     804.21997        -1.00          1776.53   \n",
              "2013-01-01 00:00:00+01:00    1093.81990        -0.98          1800.01   \n",
              "2013-01-01 00:00:00+01:00    1072.79000        -1.00          1799.91   \n",
              "2013-01-01 00:10:00+01:00    1061.75000        -1.00          1798.88   \n",
              "...                                 ...          ...              ...   \n",
              "2018-01-12 23:20:00+01:00      54.67000        -0.64           973.69   \n",
              "2018-01-12 23:20:00+01:00      70.40000        -0.83           996.08   \n",
              "2018-01-12 23:30:00+01:00      28.18000        -0.07           970.00   \n",
              "2018-01-12 23:30:00+01:00      27.88000        -0.15           969.98   \n",
              "2018-01-13 00:00:00+01:00      29.01000        -0.06           970.11   \n",
              "\n",
              "                           wind_speed  temperature  rotor_speed  \n",
              "Date_time                                                        \n",
              "2013-01-01 00:00:00+01:00        7.25         5.72    16.360001  \n",
              "2013-01-01 00:00:00+01:00        7.64         5.44    16.950001  \n",
              "2013-01-01 00:00:00+01:00        8.56         5.48    17.180000  \n",
              "2013-01-01 00:00:00+01:00        8.96         5.09    17.180000  \n",
              "2013-01-01 00:10:00+01:00        8.89         5.26    17.170000  \n",
              "...                               ...          ...          ...  \n",
              "2018-01-12 23:20:00+01:00        4.27         3.76     9.270000  \n",
              "2018-01-12 23:20:00+01:00        4.26         3.82     9.480000  \n",
              "2018-01-12 23:30:00+01:00        3.69         3.52     9.230000  \n",
              "2018-01-12 23:30:00+01:00        3.58         3.62     9.230000  \n",
              "2018-01-13 00:00:00+01:00        3.52         2.58     9.230000  \n",
              "\n",
              "[777711 rows x 6 columns]"
            ],
            "text/html": [
              "\n",
              "  <div id=\"df-b90efe74-1737-406c-ad5e-0723d2d97f43\">\n",
              "    <div class=\"colab-df-container\">\n",
              "      <div>\n",
              "<style scoped>\n",
              "    .dataframe tbody tr th:only-of-type {\n",
              "        vertical-align: middle;\n",
              "    }\n",
              "\n",
              "    .dataframe tbody tr th {\n",
              "        vertical-align: top;\n",
              "    }\n",
              "\n",
              "    .dataframe thead th {\n",
              "        text-align: right;\n",
              "    }\n",
              "</style>\n",
              "<table border=\"1\" class=\"dataframe\">\n",
              "  <thead>\n",
              "    <tr style=\"text-align: right;\">\n",
              "      <th></th>\n",
              "      <th>output_power</th>\n",
              "      <th>pitch_angle</th>\n",
              "      <th>generator_speed</th>\n",
              "      <th>wind_speed</th>\n",
              "      <th>temperature</th>\n",
              "      <th>rotor_speed</th>\n",
              "    </tr>\n",
              "    <tr>\n",
              "      <th>Date_time</th>\n",
              "      <th></th>\n",
              "      <th></th>\n",
              "      <th></th>\n",
              "      <th></th>\n",
              "      <th></th>\n",
              "      <th></th>\n",
              "    </tr>\n",
              "  </thead>\n",
              "  <tbody>\n",
              "    <tr>\n",
              "      <th>2013-01-01 00:00:00+01:00</th>\n",
              "      <td>684.15997</td>\n",
              "      <td>-1.01</td>\n",
              "      <td>1714.71</td>\n",
              "      <td>7.25</td>\n",
              "      <td>5.72</td>\n",
              "      <td>16.360001</td>\n",
              "    </tr>\n",
              "    <tr>\n",
              "      <th>2013-01-01 00:00:00+01:00</th>\n",
              "      <td>804.21997</td>\n",
              "      <td>-1.00</td>\n",
              "      <td>1776.53</td>\n",
              "      <td>7.64</td>\n",
              "      <td>5.44</td>\n",
              "      <td>16.950001</td>\n",
              "    </tr>\n",
              "    <tr>\n",
              "      <th>2013-01-01 00:00:00+01:00</th>\n",
              "      <td>1093.81990</td>\n",
              "      <td>-0.98</td>\n",
              "      <td>1800.01</td>\n",
              "      <td>8.56</td>\n",
              "      <td>5.48</td>\n",
              "      <td>17.180000</td>\n",
              "    </tr>\n",
              "    <tr>\n",
              "      <th>2013-01-01 00:00:00+01:00</th>\n",
              "      <td>1072.79000</td>\n",
              "      <td>-1.00</td>\n",
              "      <td>1799.91</td>\n",
              "      <td>8.96</td>\n",
              "      <td>5.09</td>\n",
              "      <td>17.180000</td>\n",
              "    </tr>\n",
              "    <tr>\n",
              "      <th>2013-01-01 00:10:00+01:00</th>\n",
              "      <td>1061.75000</td>\n",
              "      <td>-1.00</td>\n",
              "      <td>1798.88</td>\n",
              "      <td>8.89</td>\n",
              "      <td>5.26</td>\n",
              "      <td>17.170000</td>\n",
              "    </tr>\n",
              "    <tr>\n",
              "      <th>...</th>\n",
              "      <td>...</td>\n",
              "      <td>...</td>\n",
              "      <td>...</td>\n",
              "      <td>...</td>\n",
              "      <td>...</td>\n",
              "      <td>...</td>\n",
              "    </tr>\n",
              "    <tr>\n",
              "      <th>2018-01-12 23:20:00+01:00</th>\n",
              "      <td>54.67000</td>\n",
              "      <td>-0.64</td>\n",
              "      <td>973.69</td>\n",
              "      <td>4.27</td>\n",
              "      <td>3.76</td>\n",
              "      <td>9.270000</td>\n",
              "    </tr>\n",
              "    <tr>\n",
              "      <th>2018-01-12 23:20:00+01:00</th>\n",
              "      <td>70.40000</td>\n",
              "      <td>-0.83</td>\n",
              "      <td>996.08</td>\n",
              "      <td>4.26</td>\n",
              "      <td>3.82</td>\n",
              "      <td>9.480000</td>\n",
              "    </tr>\n",
              "    <tr>\n",
              "      <th>2018-01-12 23:30:00+01:00</th>\n",
              "      <td>28.18000</td>\n",
              "      <td>-0.07</td>\n",
              "      <td>970.00</td>\n",
              "      <td>3.69</td>\n",
              "      <td>3.52</td>\n",
              "      <td>9.230000</td>\n",
              "    </tr>\n",
              "    <tr>\n",
              "      <th>2018-01-12 23:30:00+01:00</th>\n",
              "      <td>27.88000</td>\n",
              "      <td>-0.15</td>\n",
              "      <td>969.98</td>\n",
              "      <td>3.58</td>\n",
              "      <td>3.62</td>\n",
              "      <td>9.230000</td>\n",
              "    </tr>\n",
              "    <tr>\n",
              "      <th>2018-01-13 00:00:00+01:00</th>\n",
              "      <td>29.01000</td>\n",
              "      <td>-0.06</td>\n",
              "      <td>970.11</td>\n",
              "      <td>3.52</td>\n",
              "      <td>2.58</td>\n",
              "      <td>9.230000</td>\n",
              "    </tr>\n",
              "  </tbody>\n",
              "</table>\n",
              "<p>777711 rows × 6 columns</p>\n",
              "</div>\n",
              "      <button class=\"colab-df-convert\" onclick=\"convertToInteractive('df-b90efe74-1737-406c-ad5e-0723d2d97f43')\"\n",
              "              title=\"Convert this dataframe to an interactive table.\"\n",
              "              style=\"display:none;\">\n",
              "        \n",
              "  <svg xmlns=\"http://www.w3.org/2000/svg\" height=\"24px\"viewBox=\"0 0 24 24\"\n",
              "       width=\"24px\">\n",
              "    <path d=\"M0 0h24v24H0V0z\" fill=\"none\"/>\n",
              "    <path d=\"M18.56 5.44l.94 2.06.94-2.06 2.06-.94-2.06-.94-.94-2.06-.94 2.06-2.06.94zm-11 1L8.5 8.5l.94-2.06 2.06-.94-2.06-.94L8.5 2.5l-.94 2.06-2.06.94zm10 10l.94 2.06.94-2.06 2.06-.94-2.06-.94-.94-2.06-.94 2.06-2.06.94z\"/><path d=\"M17.41 7.96l-1.37-1.37c-.4-.4-.92-.59-1.43-.59-.52 0-1.04.2-1.43.59L10.3 9.45l-7.72 7.72c-.78.78-.78 2.05 0 2.83L4 21.41c.39.39.9.59 1.41.59.51 0 1.02-.2 1.41-.59l7.78-7.78 2.81-2.81c.8-.78.8-2.07 0-2.86zM5.41 20L4 18.59l7.72-7.72 1.47 1.35L5.41 20z\"/>\n",
              "  </svg>\n",
              "      </button>\n",
              "      \n",
              "  <style>\n",
              "    .colab-df-container {\n",
              "      display:flex;\n",
              "      flex-wrap:wrap;\n",
              "      gap: 12px;\n",
              "    }\n",
              "\n",
              "    .colab-df-convert {\n",
              "      background-color: #E8F0FE;\n",
              "      border: none;\n",
              "      border-radius: 50%;\n",
              "      cursor: pointer;\n",
              "      display: none;\n",
              "      fill: #1967D2;\n",
              "      height: 32px;\n",
              "      padding: 0 0 0 0;\n",
              "      width: 32px;\n",
              "    }\n",
              "\n",
              "    .colab-df-convert:hover {\n",
              "      background-color: #E2EBFA;\n",
              "      box-shadow: 0px 1px 2px rgba(60, 64, 67, 0.3), 0px 1px 3px 1px rgba(60, 64, 67, 0.15);\n",
              "      fill: #174EA6;\n",
              "    }\n",
              "\n",
              "    [theme=dark] .colab-df-convert {\n",
              "      background-color: #3B4455;\n",
              "      fill: #D2E3FC;\n",
              "    }\n",
              "\n",
              "    [theme=dark] .colab-df-convert:hover {\n",
              "      background-color: #434B5C;\n",
              "      box-shadow: 0px 1px 3px 1px rgba(0, 0, 0, 0.15);\n",
              "      filter: drop-shadow(0px 1px 2px rgba(0, 0, 0, 0.3));\n",
              "      fill: #FFFFFF;\n",
              "    }\n",
              "  </style>\n",
              "\n",
              "      <script>\n",
              "        const buttonEl =\n",
              "          document.querySelector('#df-b90efe74-1737-406c-ad5e-0723d2d97f43 button.colab-df-convert');\n",
              "        buttonEl.style.display =\n",
              "          google.colab.kernel.accessAllowed ? 'block' : 'none';\n",
              "\n",
              "        async function convertToInteractive(key) {\n",
              "          const element = document.querySelector('#df-b90efe74-1737-406c-ad5e-0723d2d97f43');\n",
              "          const dataTable =\n",
              "            await google.colab.kernel.invokeFunction('convertToInteractive',\n",
              "                                                     [key], {});\n",
              "          if (!dataTable) return;\n",
              "\n",
              "          const docLinkHtml = 'Like what you see? Visit the ' +\n",
              "            '<a target=\"_blank\" href=https://colab.research.google.com/notebooks/data_table.ipynb>data table notebook</a>'\n",
              "            + ' to learn more about interactive tables.';\n",
              "          element.innerHTML = '';\n",
              "          dataTable['output_type'] = 'display_data';\n",
              "          await google.colab.output.renderOutput(dataTable, element);\n",
              "          const docLink = document.createElement('div');\n",
              "          docLink.innerHTML = docLinkHtml;\n",
              "          element.appendChild(docLink);\n",
              "        }\n",
              "      </script>\n",
              "    </div>\n",
              "  </div>\n",
              "  "
            ]
          },
          "metadata": {},
          "execution_count": 17
        }
      ]
    },
    {
      "cell_type": "code",
      "source": [
        "df.hist()\n",
        "plt.show()"
      ],
      "metadata": {
        "colab": {
          "base_uri": "https://localhost:8080/",
          "height": 281
        },
        "id": "E9usqPwZEzcV",
        "outputId": "9715641b-897f-4374-9cad-3efaf141b742"
      },
      "execution_count": null,
      "outputs": [
        {
          "output_type": "display_data",
          "data": {
            "text/plain": [
              "<Figure size 432x288 with 6 Axes>"
            ],
            "image/png": "[encoded data removed]"
          },
          "metadata": {
            "needs_background": "light"
          }
        }
      ]
    },
    {
      "cell_type": "code",
      "source": [
        "df.index = pd.to_datetime(df.index, utc=True)\n"
      ],
      "metadata": {
        "id": "7u0M7N5aApNM"
      },
      "execution_count": null,
      "outputs": []
    },
    {
      "cell_type": "code",
      "source": [
        "df.index"
      ],
      "metadata": {
        "colab": {
          "base_uri": "https://localhost:8080/"
        },
        "id": "ilLzurHQBok5",
        "outputId": "f918311a-45a7-41f9-8994-9fac1d3d488a"
      },
      "execution_count": null,
      "outputs": [
        {
          "output_type": "execute_result",
          "data": {
            "text/plain": [
              "DatetimeIndex(['2012-12-31 23:00:00+00:00', '2012-12-31 23:00:00+00:00',\n",
              "               '2012-12-31 23:00:00+00:00', '2012-12-31 23:00:00+00:00',\n",
              "               '2012-12-31 23:10:00+00:00', '2012-12-31 23:10:00+00:00',\n",
              "               '2012-12-31 23:10:00+00:00', '2012-12-31 23:10:00+00:00',\n",
              "               '2012-12-31 23:20:00+00:00', '2012-12-31 23:20:00+00:00',\n",
              "               ...\n",
              "               '2018-01-12 22:10:00+00:00', '2018-01-12 22:10:00+00:00',\n",
              "               '2018-01-12 22:10:00+00:00', '2018-01-12 22:20:00+00:00',\n",
              "               '2018-01-12 22:20:00+00:00', '2018-01-12 22:20:00+00:00',\n",
              "               '2018-01-12 22:20:00+00:00', '2018-01-12 22:30:00+00:00',\n",
              "               '2018-01-12 22:30:00+00:00', '2018-01-12 23:00:00+00:00'],\n",
              "              dtype='datetime64[ns, UTC]', name='Date_time', length=777711, freq=None)"
            ]
          },
          "metadata": {},
          "execution_count": 20
        }
      ]
    },
    {
      "cell_type": "markdown",
      "source": [
        "Hourly resampling "
      ],
      "metadata": {
        "id": "NL1hN0zVvh7W"
      }
    },
    {
      "cell_type": "code",
      "source": [
        "#df_resample = df.resample('M', on='Date_time').mean()\n",
        "df_resample = df.resample('h').mean()\n",
        "df_resample.shape"
      ],
      "metadata": {
        "colab": {
          "base_uri": "https://localhost:8080/"
        },
        "id": "ikdd7ZCv9N-X",
        "outputId": "238deaa1-597f-40b6-bd05-dc51c3094165"
      },
      "execution_count": null,
      "outputs": [
        {
          "output_type": "execute_result",
          "data": {
            "text/plain": [
              "(44113, 6)"
            ]
          },
          "metadata": {},
          "execution_count": 21
        }
      ]
    },
    {
      "cell_type": "code",
      "source": [
        "df_resample['output_power'].plot()\n"
      ],
      "metadata": {
        "colab": {
          "base_uri": "https://localhost:8080/",
          "height": 297
        },
        "id": "HMCrIChYCae8",
        "outputId": "2a2dd342-5f0d-4018-87a2-b914ab885fe5"
      },
      "execution_count": null,
      "outputs": [
        {
          "output_type": "execute_result",
          "data": {
            "text/plain": [
              "<matplotlib.axes._subplots.AxesSubplot at 0x7ffb16e824d0>"
            ]
          },
          "metadata": {},
          "execution_count": 22
        },
        {
          "output_type": "display_data",
          "data": {
            "text/plain": [
              "<Figure size 432x288 with 1 Axes>"
            ],
            "image/png": "[encoded data removed]"
          },
          "metadata": {
            "needs_background": "light"
          }
        }
      ]
    },
    {
      "cell_type": "code",
      "source": [
        "#df_resample.isna().sum()"
      ],
      "metadata": {
        "id": "HinS21mmswzW"
      },
      "execution_count": null,
      "outputs": []
    },
    {
      "cell_type": "code",
      "source": [
        "df_resample.dropna(inplace=True)"
      ],
      "metadata": {
        "id": "GapxueIVX6Px"
      },
      "execution_count": null,
      "outputs": []
    },
    {
      "cell_type": "code",
      "source": [
        "#df_resample.isna().sum()"
      ],
      "metadata": {
        "id": "vgaHlWsUYKQX"
      },
      "execution_count": null,
      "outputs": []
    },
    {
      "cell_type": "markdown",
      "source": [
        "Checking for staionarity"
      ],
      "metadata": {
        "id": "Gi16j5Fzvn8M"
      }
    },
    {
      "cell_type": "code",
      "source": [
        "from statsmodels.tsa.stattools import adfuller\n",
        "\n",
        "print('Augmented Dickey Fuller Test')\n",
        "\n",
        "df_test = adfuller(df_resample['output_power'],autolag='AIC')\n",
        "df_adf = pd.Series(df_test[0:4],index=['ADF test statistics', 'p-value', '# lags used', '# observations'])\n",
        "\n",
        "for key,val in df_test[4].items():\n",
        "    df_adf[f'critical value ({key})']=val\n",
        "    \n",
        "print(df_adf) "
      ],
      "metadata": {
        "colab": {
          "base_uri": "https://localhost:8080/"
        },
        "id": "-N6dQmZHX2SP",
        "outputId": "1c5a7282-84ec-4737-bf5b-1003da79ab50"
      },
      "execution_count": null,
      "outputs": [
        {
          "output_type": "stream",
          "name": "stdout",
          "text": [
            "Augmented Dickey Fuller Test\n",
            "ADF test statistics    -1.794183e+01\n",
            "p-value                 2.858889e-30\n",
            "# lags used             4.300000e+01\n",
            "# observations          3.859300e+04\n",
            "critical value (1%)    -3.430519e+00\n",
            "critical value (5%)    -2.861615e+00\n",
            "critical value (10%)   -2.566810e+00\n",
            "dtype: float64\n"
          ]
        }
      ]
    },
    {
      "cell_type": "code",
      "source": [
        "data = df_resample.values\n",
        "#data = data.astype('float32')"
      ],
      "metadata": {
        "id": "JHfG1OAHzvHT"
      },
      "execution_count": null,
      "outputs": []
    },
    {
      "cell_type": "code",
      "source": [
        "data"
      ],
      "metadata": {
        "colab": {
          "base_uri": "https://localhost:8080/"
        },
        "id": "u1Bu-ngAe93d",
        "outputId": "28a89012-8e3a-4a95-ba49-6448153b533b"
      },
      "execution_count": null,
      "outputs": [
        {
          "output_type": "execute_result",
          "data": {
            "text/plain": [
              "array([[ 1.02515082e+03, -9.97500005e-01,  1.78910168e+03,\n",
              "         8.55416673e+00,  5.96125005e+00,  1.70745834e+01],\n",
              "       [ 9.35422917e+02, -9.92499999e-01,  1.77602457e+03,\n",
              "         8.23999993e+00,  6.25166673e+00,  1.69495831e+01],\n",
              "       [ 8.96413327e+02, -9.95416668e-01,  1.76167290e+03,\n",
              "         8.08875006e+00,  6.36249995e+00,  1.68112502e+01],\n",
              "       ...,\n",
              "       [ 8.64141667e+01, -8.67083333e-01,  1.01738958e+03,\n",
              "         4.54958333e+00,  4.69208333e+00,  9.68125000e+00],\n",
              "       [ 1.00747857e+02, -8.15714286e-01,  1.05261214e+03,\n",
              "         4.67000000e+00,  3.93642857e+00,  1.00200000e+01],\n",
              "       [ 2.90100000e+01, -6.00000000e-02,  9.70110000e+02,\n",
              "         3.52000000e+00,  2.58000000e+00,  9.23000000e+00]])"
            ]
          },
          "metadata": {},
          "execution_count": 31
        }
      ]
    },
    {
      "cell_type": "code",
      "source": [
        "#data= data.reshape(-1,1)"
      ],
      "metadata": {
        "id": "X73fjzPjsnJw"
      },
      "execution_count": null,
      "outputs": []
    },
    {
      "cell_type": "markdown",
      "source": [
        "Building the model"
      ],
      "metadata": {
        "id": "JpmBUNQ4v0i1"
      }
    },
    {
      "cell_type": "code",
      "source": [
        "from sklearn.preprocessing import MinMaxScaler\n",
        "scaler = MinMaxScaler(feature_range=(0,1))\n",
        "data = scaler.fit_transform(data)"
      ],
      "metadata": {
        "id": "khXUDj_bfIo5"
      },
      "execution_count": null,
      "outputs": []
    },
    {
      "cell_type": "code",
      "source": [
        "data.shape"
      ],
      "metadata": {
        "colab": {
          "base_uri": "https://localhost:8080/"
        },
        "id": "d26p1dnufXDU",
        "outputId": "4383592b-1262-4beb-c73a-10ea09357933"
      },
      "execution_count": null,
      "outputs": [
        {
          "output_type": "execute_result",
          "data": {
            "text/plain": [
              "(38637, 6)"
            ]
          },
          "metadata": {},
          "execution_count": 34
        }
      ]
    },
    {
      "cell_type": "markdown",
      "source": [
        "Function to convert to supervised learning"
      ],
      "metadata": {
        "id": "KO4e7KsUv7c-"
      }
    },
    {
      "cell_type": "code",
      "source": [
        "def series_to_supervised(data, n_in=1, n_out=1, dropnan=True):\n",
        "\tn_vars = 1 if type(data) is list else data.shape[1]\n",
        "\tdff = pd.DataFrame(data)\n",
        "\tcols, names = list(), list()\n",
        "\t# input sequence (t-n, ... t-1)\n",
        "\tfor i in range(n_in, 0, -1):\n",
        "\t\tcols.append(dff.shift(i))\n",
        "\t\tnames += [('var%d(t-%d)' % (j+1, i)) for j in range(n_vars)]\n",
        "\t# forecast sequence (t, t+1, ... t+n)\n",
        "\tfor i in range(0, n_out):\n",
        "\t\tcols.append(dff.shift(-i))\n",
        "\t\tif i == 0:\n",
        "\t\t\tnames += [('var%d(t)' % (j+1)) for j in range(n_vars)]\n",
        "\t\telse:\n",
        "\t\t\tnames += [('var%d(t+%d)' % (j+1, i)) for j in range(n_vars)]\n",
        "\t# put it all together\n",
        "\tagg = pd.concat(cols, axis=1)\n",
        "\tagg.columns = names\n",
        "\t# drop rows with NaN values\n",
        "\tif dropnan:\n",
        "\t\tagg.dropna(inplace=True)\n",
        "\treturn agg"
      ],
      "metadata": {
        "id": "SPHP9FEQDRuD"
      },
      "execution_count": null,
      "outputs": []
    },
    {
      "cell_type": "code",
      "source": [
        "scaled = series_to_supervised(data, 1,1)"
      ],
      "metadata": {
        "id": "qdPejq44DZhE"
      },
      "execution_count": null,
      "outputs": []
    },
    {
      "cell_type": "code",
      "source": [
        "scaled.drop(scaled.columns[[7,8,9,10,11]], axis=1, inplace=True)"
      ],
      "metadata": {
        "id": "vNVoft2pFGob"
      },
      "execution_count": null,
      "outputs": []
    },
    {
      "cell_type": "code",
      "source": [
        "scaled"
      ],
      "metadata": {
        "colab": {
          "base_uri": "https://localhost:8080/",
          "height": 424
        },
        "id": "FNDzL8bhDoJZ",
        "outputId": "6f11a98d-c617-4d78-d201-66e9f667024a"
      },
      "execution_count": null,
      "outputs": [
        {
          "output_type": "execute_result",
          "data": {
            "text/plain": [
              "       var1(t-1)  var2(t-1)  var3(t-1)  var4(t-1)  var5(t-1)  var6(t-1)  \\\n",
              "1       0.491731   0.000520   0.991816   0.317357   0.295343   0.991693   \n",
              "2       0.447603   0.000602   0.983320   0.297630   0.301739   0.983217   \n",
              "3       0.428418   0.000554   0.973996   0.288132   0.304179   0.973837   \n",
              "4       0.537538   0.001860   0.991330   0.341845   0.290801   0.991156   \n",
              "5       0.674962   0.005429   0.996959   0.408874   0.275671   0.996807   \n",
              "...          ...        ...        ...        ...        ...        ...   \n",
              "38632   0.101728   0.000561   0.655728   0.123646   0.293940   0.655356   \n",
              "38633   0.091346   0.031522   0.616033   0.111413   0.284286   0.615803   \n",
              "38634   0.027481   0.002947   0.484291   0.057951   0.269110   0.484361   \n",
              "38635   0.030065   0.002660   0.490447   0.065904   0.267395   0.490351   \n",
              "38636   0.037115   0.003503   0.513330   0.073466   0.250754   0.513322   \n",
              "\n",
              "        var1(t)  \n",
              "1      0.447603  \n",
              "2      0.428418  \n",
              "3      0.537538  \n",
              "4      0.674962  \n",
              "5      0.742209  \n",
              "...         ...  \n",
              "38632  0.091346  \n",
              "38633  0.027481  \n",
              "38634  0.030065  \n",
              "38635  0.037115  \n",
              "38636  0.001834  \n",
              "\n",
              "[38636 rows x 7 columns]"
            ],
            "text/html": [
              "\n",
              "  <div id=\"df-c98442bd-3e6c-466e-aeae-3ffc248d3fe0\">\n",
              "    <div class=\"colab-df-container\">\n",
              "      <div>\n",
              "<style scoped>\n",
              "    .dataframe tbody tr th:only-of-type {\n",
              "        vertical-align: middle;\n",
              "    }\n",
              "\n",
              "    .dataframe tbody tr th {\n",
              "        vertical-align: top;\n",
              "    }\n",
              "\n",
              "    .dataframe thead th {\n",
              "        text-align: right;\n",
              "    }\n",
              "</style>\n",
              "<table border=\"1\" class=\"dataframe\">\n",
              "  <thead>\n",
              "    <tr style=\"text-align: right;\">\n",
              "      <th></th>\n",
              "      <th>var1(t-1)</th>\n",
              "      <th>var2(t-1)</th>\n",
              "      <th>var3(t-1)</th>\n",
              "      <th>var4(t-1)</th>\n",
              "      <th>var5(t-1)</th>\n",
              "      <th>var6(t-1)</th>\n",
              "      <th>var1(t)</th>\n",
              "    </tr>\n",
              "  </thead>\n",
              "  <tbody>\n",
              "    <tr>\n",
              "      <th>1</th>\n",
              "      <td>0.491731</td>\n",
              "      <td>0.000520</td>\n",
              "      <td>0.991816</td>\n",
              "      <td>0.317357</td>\n",
              "      <td>0.295343</td>\n",
              "      <td>0.991693</td>\n",
              "      <td>0.447603</td>\n",
              "    </tr>\n",
              "    <tr>\n",
              "      <th>2</th>\n",
              "      <td>0.447603</td>\n",
              "      <td>0.000602</td>\n",
              "      <td>0.983320</td>\n",
              "      <td>0.297630</td>\n",
              "      <td>0.301739</td>\n",
              "      <td>0.983217</td>\n",
              "      <td>0.428418</td>\n",
              "    </tr>\n",
              "    <tr>\n",
              "      <th>3</th>\n",
              "      <td>0.428418</td>\n",
              "      <td>0.000554</td>\n",
              "      <td>0.973996</td>\n",
              "      <td>0.288132</td>\n",
              "      <td>0.304179</td>\n",
              "      <td>0.973837</td>\n",
              "      <td>0.537538</td>\n",
              "    </tr>\n",
              "    <tr>\n",
              "      <th>4</th>\n",
              "      <td>0.537538</td>\n",
              "      <td>0.001860</td>\n",
              "      <td>0.991330</td>\n",
              "      <td>0.341845</td>\n",
              "      <td>0.290801</td>\n",
              "      <td>0.991156</td>\n",
              "      <td>0.674962</td>\n",
              "    </tr>\n",
              "    <tr>\n",
              "      <th>5</th>\n",
              "      <td>0.674962</td>\n",
              "      <td>0.005429</td>\n",
              "      <td>0.996959</td>\n",
              "      <td>0.408874</td>\n",
              "      <td>0.275671</td>\n",
              "      <td>0.996807</td>\n",
              "      <td>0.742209</td>\n",
              "    </tr>\n",
              "    <tr>\n",
              "      <th>...</th>\n",
              "      <td>...</td>\n",
              "      <td>...</td>\n",
              "      <td>...</td>\n",
              "      <td>...</td>\n",
              "      <td>...</td>\n",
              "      <td>...</td>\n",
              "      <td>...</td>\n",
              "    </tr>\n",
              "    <tr>\n",
              "      <th>38632</th>\n",
              "      <td>0.101728</td>\n",
              "      <td>0.000561</td>\n",
              "      <td>0.655728</td>\n",
              "      <td>0.123646</td>\n",
              "      <td>0.293940</td>\n",
              "      <td>0.655356</td>\n",
              "      <td>0.091346</td>\n",
              "    </tr>\n",
              "    <tr>\n",
              "      <th>38633</th>\n",
              "      <td>0.091346</td>\n",
              "      <td>0.031522</td>\n",
              "      <td>0.616033</td>\n",
              "      <td>0.111413</td>\n",
              "      <td>0.284286</td>\n",
              "      <td>0.615803</td>\n",
              "      <td>0.027481</td>\n",
              "    </tr>\n",
              "    <tr>\n",
              "      <th>38634</th>\n",
              "      <td>0.027481</td>\n",
              "      <td>0.002947</td>\n",
              "      <td>0.484291</td>\n",
              "      <td>0.057951</td>\n",
              "      <td>0.269110</td>\n",
              "      <td>0.484361</td>\n",
              "      <td>0.030065</td>\n",
              "    </tr>\n",
              "    <tr>\n",
              "      <th>38635</th>\n",
              "      <td>0.030065</td>\n",
              "      <td>0.002660</td>\n",
              "      <td>0.490447</td>\n",
              "      <td>0.065904</td>\n",
              "      <td>0.267395</td>\n",
              "      <td>0.490351</td>\n",
              "      <td>0.037115</td>\n",
              "    </tr>\n",
              "    <tr>\n",
              "      <th>38636</th>\n",
              "      <td>0.037115</td>\n",
              "      <td>0.003503</td>\n",
              "      <td>0.513330</td>\n",
              "      <td>0.073466</td>\n",
              "      <td>0.250754</td>\n",
              "      <td>0.513322</td>\n",
              "      <td>0.001834</td>\n",
              "    </tr>\n",
              "  </tbody>\n",
              "</table>\n",
              "<p>38636 rows × 7 columns</p>\n",
              "</div>\n",
              "      <button class=\"colab-df-convert\" onclick=\"convertToInteractive('df-c98442bd-3e6c-466e-aeae-3ffc248d3fe0')\"\n",
              "              title=\"Convert this dataframe to an interactive table.\"\n",
              "              style=\"display:none;\">\n",
              "        \n",
              "  <svg xmlns=\"http://www.w3.org/2000/svg\" height=\"24px\"viewBox=\"0 0 24 24\"\n",
              "       width=\"24px\">\n",
              "    <path d=\"M0 0h24v24H0V0z\" fill=\"none\"/>\n",
              "    <path d=\"M18.56 5.44l.94 2.06.94-2.06 2.06-.94-2.06-.94-.94-2.06-.94 2.06-2.06.94zm-11 1L8.5 8.5l.94-2.06 2.06-.94-2.06-.94L8.5 2.5l-.94 2.06-2.06.94zm10 10l.94 2.06.94-2.06 2.06-.94-2.06-.94-.94-2.06-.94 2.06-2.06.94z\"/><path d=\"M17.41 7.96l-1.37-1.37c-.4-.4-.92-.59-1.43-.59-.52 0-1.04.2-1.43.59L10.3 9.45l-7.72 7.72c-.78.78-.78 2.05 0 2.83L4 21.41c.39.39.9.59 1.41.59.51 0 1.02-.2 1.41-.59l7.78-7.78 2.81-2.81c.8-.78.8-2.07 0-2.86zM5.41 20L4 18.59l7.72-7.72 1.47 1.35L5.41 20z\"/>\n",
              "  </svg>\n",
              "      </button>\n",
              "      \n",
              "  <style>\n",
              "    .colab-df-container {\n",
              "      display:flex;\n",
              "      flex-wrap:wrap;\n",
              "      gap: 12px;\n",
              "    }\n",
              "\n",
              "    .colab-df-convert {\n",
              "      background-color: #E8F0FE;\n",
              "      border: none;\n",
              "      border-radius: 50%;\n",
              "      cursor: pointer;\n",
              "      display: none;\n",
              "      fill: #1967D2;\n",
              "      height: 32px;\n",
              "      padding: 0 0 0 0;\n",
              "      width: 32px;\n",
              "    }\n",
              "\n",
              "    .colab-df-convert:hover {\n",
              "      background-color: #E2EBFA;\n",
              "      box-shadow: 0px 1px 2px rgba(60, 64, 67, 0.3), 0px 1px 3px 1px rgba(60, 64, 67, 0.15);\n",
              "      fill: #174EA6;\n",
              "    }\n",
              "\n",
              "    [theme=dark] .colab-df-convert {\n",
              "      background-color: #3B4455;\n",
              "      fill: #D2E3FC;\n",
              "    }\n",
              "\n",
              "    [theme=dark] .colab-df-convert:hover {\n",
              "      background-color: #434B5C;\n",
              "      box-shadow: 0px 1px 3px 1px rgba(0, 0, 0, 0.15);\n",
              "      filter: drop-shadow(0px 1px 2px rgba(0, 0, 0, 0.3));\n",
              "      fill: #FFFFFF;\n",
              "    }\n",
              "  </style>\n",
              "\n",
              "      <script>\n",
              "        const buttonEl =\n",
              "          document.querySelector('#df-c98442bd-3e6c-466e-aeae-3ffc248d3fe0 button.colab-df-convert');\n",
              "        buttonEl.style.display =\n",
              "          google.colab.kernel.accessAllowed ? 'block' : 'none';\n",
              "\n",
              "        async function convertToInteractive(key) {\n",
              "          const element = document.querySelector('#df-c98442bd-3e6c-466e-aeae-3ffc248d3fe0');\n",
              "          const dataTable =\n",
              "            await google.colab.kernel.invokeFunction('convertToInteractive',\n",
              "                                                     [key], {});\n",
              "          if (!dataTable) return;\n",
              "\n",
              "          const docLinkHtml = 'Like what you see? Visit the ' +\n",
              "            '<a target=\"_blank\" href=https://colab.research.google.com/notebooks/data_table.ipynb>data table notebook</a>'\n",
              "            + ' to learn more about interactive tables.';\n",
              "          element.innerHTML = '';\n",
              "          dataTable['output_type'] = 'display_data';\n",
              "          await google.colab.output.renderOutput(dataTable, element);\n",
              "          const docLink = document.createElement('div');\n",
              "          docLink.innerHTML = docLinkHtml;\n",
              "          element.appendChild(docLink);\n",
              "        }\n",
              "      </script>\n",
              "    </div>\n",
              "  </div>\n",
              "  "
            ]
          },
          "metadata": {},
          "execution_count": 122
        }
      ]
    },
    {
      "cell_type": "markdown",
      "source": [
        "Splitting to train and test set"
      ],
      "metadata": {
        "id": "5v4kJaudwFov"
      }
    },
    {
      "cell_type": "code",
      "source": [
        "values = scaled.values\n",
        "\n",
        "train_time = 9659*3\n",
        "\n",
        "train = values[:train_time, :]\n",
        "test = values[train_time:, :]\n",
        "\n",
        "\n",
        "X_train, y_train = train[:,:-1], train[:, -1]\n",
        "X_test, y_test = test[:,:-1], test[:, -1]\n",
        "\n",
        "\n",
        "X_train = X_train.reshape((X_train.shape[0], 1, X_train.shape[1]))\n",
        "X_test = X_test.reshape((X_test.shape[0], 1, X_test.shape[1]))\n",
        "print(X_train.shape, y_train.shape, X_test.shape, y_test.shape)"
      ],
      "metadata": {
        "colab": {
          "base_uri": "https://localhost:8080/"
        },
        "id": "m1cEB2CZs1TU",
        "outputId": "9b513348-7357-45d7-ad2e-56667ce0fb9a"
      },
      "execution_count": null,
      "outputs": [
        {
          "output_type": "stream",
          "name": "stdout",
          "text": [
            "(28977, 1, 6) (28977,) (9659, 1, 6) (9659,)\n"
          ]
        }
      ]
    },
    {
      "cell_type": "code",
      "source": [
        "X_train"
      ],
      "metadata": {
        "id": "w5QX1uO4IJzI",
        "colab": {
          "base_uri": "https://localhost:8080/"
        },
        "outputId": "faccddf1-8bce-4ba4-cb75-aeadc5406194"
      },
      "execution_count": null,
      "outputs": [
        {
          "output_type": "execute_result",
          "data": {
            "text/plain": [
              "array([[[4.91730866e-01, 5.19644023e-04, 9.91815884e-01, 3.17356500e-01,\n",
              "         2.95343403e-01, 9.91693242e-01]],\n",
              "\n",
              "       [[4.47603184e-01, 6.01693171e-04, 9.83319888e-01, 2.97629633e-01,\n",
              "         3.01738779e-01, 9.83216970e-01]],\n",
              "\n",
              "       [[4.28418486e-01, 5.53831191e-04, 9.73995833e-01, 2.88132493e-01,\n",
              "         3.04179479e-01, 9.73836610e-01]],\n",
              "\n",
              "       ...,\n",
              "\n",
              "       [[2.69641236e-01, 5.60668549e-04, 8.88703639e-01, 2.03652349e-01,\n",
              "         3.64930961e-01, 8.88395967e-01]],\n",
              "\n",
              "       [[2.06529875e-01, 1.50942882e-01, 7.49396141e-01, 1.89759825e-01,\n",
              "         3.66692671e-01, 7.49385446e-01]],\n",
              "\n",
              "       [[2.68084503e-01, 5.60668549e-04, 8.98828424e-01, 2.02945949e-01,\n",
              "         3.69105850e-01, 8.98680497e-01]]])"
            ]
          },
          "metadata": {},
          "execution_count": 224
        }
      ]
    },
    {
      "cell_type": "code",
      "source": [
        "X_train"
      ],
      "metadata": {
        "id": "lnpE2vweIjxX",
        "colab": {
          "base_uri": "https://localhost:8080/"
        },
        "outputId": "3d6f3752-64b1-4c30-f0f5-4f7448d3884f"
      },
      "execution_count": null,
      "outputs": [
        {
          "output_type": "execute_result",
          "data": {
            "text/plain": [
              "array([[[4.91730866e-01, 5.19644023e-04, 9.91815884e-01, 3.17356500e-01,\n",
              "         2.95343403e-01, 9.91693242e-01]],\n",
              "\n",
              "       [[4.47603184e-01, 6.01693171e-04, 9.83319888e-01, 2.97629633e-01,\n",
              "         3.01738779e-01, 9.83216970e-01]],\n",
              "\n",
              "       [[4.28418486e-01, 5.53831191e-04, 9.73995833e-01, 2.88132493e-01,\n",
              "         3.04179479e-01, 9.73836610e-01]],\n",
              "\n",
              "       ...,\n",
              "\n",
              "       [[2.69641236e-01, 5.60668549e-04, 8.88703639e-01, 2.03652349e-01,\n",
              "         3.64930961e-01, 8.88395967e-01]],\n",
              "\n",
              "       [[2.06529875e-01, 1.50942882e-01, 7.49396141e-01, 1.89759825e-01,\n",
              "         3.66692671e-01, 7.49385446e-01]],\n",
              "\n",
              "       [[2.68084503e-01, 5.60668549e-04, 8.98828424e-01, 2.02945949e-01,\n",
              "         3.69105850e-01, 8.98680497e-01]]])"
            ]
          },
          "metadata": {},
          "execution_count": 225
        }
      ]
    },
    {
      "cell_type": "markdown",
      "source": [
        "Model"
      ],
      "metadata": {
        "id": "YP2n-obnwLFo"
      }
    },
    {
      "cell_type": "code",
      "source": [
        "from keras.backend import relu\n",
        "from keras.callbacks import EarlyStopping\n",
        "\n",
        "optimizer = tf.keras.optimizers.Adam(lr=1e-4)\n",
        "model = Sequential()\n",
        "model.add(LSTM(6, dropout=0.2, recurrent_dropout=0.2, activation='relu', input_shape=(X_train.shape[1], X_train.shape[2])))\n",
        "#model.add(Dropout(0.2))\n",
        "model.add(Dense(6, activation='relu'))\n",
        "#model.add(Dense(3, activation='relu'))\n",
        "#    model.add(Dropout(0.3))\n",
        "model.add(Dense(1))\n",
        "model.compile(loss='mean_squared_error', optimizer=optimizer)\n",
        "monitor = EarlyStopping(monitor='val_loss', min_delta=1e-3, patience=10,verbose=1,mode='auto', restore_best_weights=True)"
      ],
      "metadata": {
        "id": "_xivh1zhC-tZ"
      },
      "execution_count": null,
      "outputs": []
    },
    {
      "cell_type": "code",
      "source": [
        "model.summary()"
      ],
      "metadata": {
        "colab": {
          "base_uri": "https://localhost:8080/"
        },
        "id": "ynfCJ2Ln0X-g",
        "outputId": "889f394f-9c85-4a08-904d-474696f1b83e"
      },
      "execution_count": null,
      "outputs": [
        {
          "output_type": "stream",
          "name": "stdout",
          "text": [
            "Model: \"sequential_17\"\n",
            "_________________________________________________________________\n",
            " Layer (type)                Output Shape              Param #   \n",
            "=================================================================\n",
            " lstm_17 (LSTM)              (None, 6)                 312       \n",
            "                                                                 \n",
            " dense_35 (Dense)            (None, 6)                 42        \n",
            "                                                                 \n",
            " dense_36 (Dense)            (None, 1)                 7         \n",
            "                                                                 \n",
            "=================================================================\n",
            "Total params: 361\n",
            "Trainable params: 361\n",
            "Non-trainable params: 0\n",
            "_________________________________________________________________\n"
          ]
        }
      ]
    },
    {
      "cell_type": "code",
      "source": [
        "# fit network\n",
        "history = model.fit(X_train, y_train, epochs=1000, batch_size=32, validation_data=(X_test, y_test), verbose=2, callbacks=[monitor], shuffle=False)\n",
        "\n",
        "# summarize history for loss\n",
        "plt.plot(history.history['loss'])\n",
        "plt.plot(history.history['val_loss'])\n",
        "plt.title('model loss')\n",
        "plt.ylabel('loss')\n",
        "plt.xlabel('epoch')\n",
        "plt.legend(['train', 'test'], loc='upper right')\n",
        "plt.show()"
      ],
      "metadata": {
        "colab": {
          "base_uri": "https://localhost:8080/",
          "height": 1000
        },
        "id": "RwWriHbXTZBh",
        "outputId": "2c6d436a-cb16-407a-9737-07bd3f53f95c"
      },
      "execution_count": null,
      "outputs": [
        {
          "output_type": "stream",
          "name": "stdout",
          "text": [
            "Epoch 1/1000\n",
            "906/906 - 6s - loss: 0.0563 - val_loss: 0.0525 - 6s/epoch - 7ms/step\n",
            "Epoch 2/1000\n",
            "906/906 - 3s - loss: 0.0433 - val_loss: 0.0458 - 3s/epoch - 3ms/step\n",
            "Epoch 3/1000\n",
            "906/906 - 3s - loss: 0.0384 - val_loss: 0.0411 - 3s/epoch - 4ms/step\n",
            "Epoch 4/1000\n",
            "906/906 - 2s - loss: 0.0335 - val_loss: 0.0346 - 2s/epoch - 3ms/step\n",
            "Epoch 5/1000\n",
            "906/906 - 3s - loss: 0.0270 - val_loss: 0.0257 - 3s/epoch - 3ms/step\n",
            "Epoch 6/1000\n",
            "906/906 - 3s - loss: 0.0201 - val_loss: 0.0176 - 3s/epoch - 3ms/step\n",
            "Epoch 7/1000\n",
            "906/906 - 3s - loss: 0.0150 - val_loss: 0.0118 - 3s/epoch - 3ms/step\n",
            "Epoch 8/1000\n",
            "906/906 - 3s - loss: 0.0123 - val_loss: 0.0092 - 3s/epoch - 4ms/step\n",
            "Epoch 9/1000\n",
            "906/906 - 3s - loss: 0.0111 - val_loss: 0.0083 - 3s/epoch - 3ms/step\n",
            "Epoch 10/1000\n",
            "906/906 - 3s - loss: 0.0104 - val_loss: 0.0080 - 3s/epoch - 3ms/step\n",
            "Epoch 11/1000\n",
            "906/906 - 3s - loss: 0.0101 - val_loss: 0.0079 - 3s/epoch - 3ms/step\n",
            "Epoch 12/1000\n",
            "906/906 - 3s - loss: 0.0099 - val_loss: 0.0078 - 3s/epoch - 3ms/step\n",
            "Epoch 13/1000\n",
            "906/906 - 3s - loss: 0.0095 - val_loss: 0.0078 - 3s/epoch - 3ms/step\n",
            "Epoch 14/1000\n",
            "906/906 - 2s - loss: 0.0091 - val_loss: 0.0077 - 2s/epoch - 3ms/step\n",
            "Epoch 15/1000\n",
            "906/906 - 3s - loss: 0.0091 - val_loss: 0.0077 - 3s/epoch - 3ms/step\n",
            "Epoch 16/1000\n",
            "906/906 - 3s - loss: 0.0089 - val_loss: 0.0078 - 3s/epoch - 3ms/step\n",
            "Epoch 17/1000\n",
            "906/906 - 3s - loss: 0.0090 - val_loss: 0.0076 - 3s/epoch - 3ms/step\n",
            "Epoch 18/1000\n",
            "906/906 - 3s - loss: 0.0088 - val_loss: 0.0077 - 3s/epoch - 4ms/step\n",
            "Epoch 19/1000\n",
            "906/906 - 3s - loss: 0.0085 - val_loss: 0.0076 - 3s/epoch - 3ms/step\n",
            "Epoch 20/1000\n",
            "Restoring model weights from the end of the best epoch: 10.\n",
            "906/906 - 3s - loss: 0.0084 - val_loss: 0.0077 - 3s/epoch - 3ms/step\n",
            "Epoch 20: early stopping\n"
          ]
        },
        {
          "output_type": "display_data",
          "data": {
            "text/plain": [
              "<Figure size 432x288 with 1 Axes>"
            ],
            "image/png": "[encoded data removed]"
          },
          "metadata": {
            "needs_background": "light"
          }
        }
      ]
    },
    {
      "cell_type": "code",
      "source": [
        "# make a prediction\n",
        "yhat = model.predict(X_test)\n",
        "X_test = X_test.reshape((X_test.shape[0], 6))\n",
        "# invert scaling for forecast\n",
        "inv_yhat = np.concatenate((yhat, X_test[:,-5:]), axis=1)\n",
        "inv_yhat = scaler.inverse_transform(inv_yhat)\n",
        "inv_yhat = inv_yhat[:,0]\n",
        "# invert scaling for actual\n",
        "y_test = y_test.reshape((len(y_test), 1))\n",
        "inv_y = np.concatenate((y_test, X_test[:,-5:]), axis=1)\n",
        "inv_y = scaler.inverse_transform(inv_y)\n",
        "inv_y = inv_y[:,0]\n",
        "# calculate RMSE\n",
        "rmse = np.sqrt(mean_squared_error(inv_y, inv_yhat))\n",
        "print('Test RMSE: %.3f' % rmse)"
      ],
      "metadata": {
        "colab": {
          "base_uri": "https://localhost:8080/"
        },
        "id": "0wjxLd1VTeUm",
        "outputId": "3272a504-e9a1-40f5-e404-cb592ef48cbd"
      },
      "execution_count": null,
      "outputs": [
        {
          "output_type": "stream",
          "name": "stdout",
          "text": [
            "Test RMSE: 181.318\n"
          ]
        }
      ]
    },
    {
      "cell_type": "code",
      "source": [
        "r2_score(inv_y, inv_yhat)"
      ],
      "metadata": {
        "colab": {
          "base_uri": "https://localhost:8080/"
        },
        "id": "MH-MJsqEja94",
        "outputId": "ab9528b8-f38f-4e76-89c4-31679139f97a"
      },
      "execution_count": null,
      "outputs": [
        {
          "output_type": "execute_result",
          "data": {
            "text/plain": [
              "0.8260433662313325"
            ]
          },
          "metadata": {},
          "execution_count": 230
        }
      ]
    },
    {
      "cell_type": "code",
      "source": [
        "aa=[x for x in range(2000)]\n",
        "plt.plot(aa, inv_y[:2000], marker='.', label=\"actual\")\n",
        "plt.plot(aa, inv_yhat[:2000], 'r', label=\"prediction\")\n",
        "plt.ylabel('output_power', size=15)\n",
        "plt.xlabel('Time step', size=15)\n",
        "plt.legend(fontsize=10)\n",
        "plt.show()"
      ],
      "metadata": {
        "colab": {
          "base_uri": "https://localhost:8080/",
          "height": 284
        },
        "id": "hh004C8rUYmU",
        "outputId": "3f3f87f7-20a6-4e12-b2ec-7089c55652c5"
      },
      "execution_count": null,
      "outputs": [
        {
          "output_type": "display_data",
          "data": {
            "text/plain": [
              "<Figure size 432x288 with 1 Axes>"
            ],
            "image/png": "[encoded data removed]"
          },
          "metadata": {
            "needs_background": "light"
          }
        }
      ]
    },
    {
      "cell_type": "code",
      "source": [
        "save_path = \"/content/drive/My Drive/models/\"\n",
        "model.save(os.path.join(save_path,'turbine.h5'))"
      ],
      "metadata": {
        "id": "Sm9L6bMrUa3S"
      },
      "execution_count": null,
      "outputs": []
    }
  ],
  "metadata": {
    "colab": {
      "name": "LSTM Time Series IS_733_Project_Tolu.ipynb",
      "provenance": [],
      "collapsed_sections": [],
      "machine_shape": "hm"
    },
    "kernelspec": {
      "display_name": "Python 3",
      "language": "python",
      "name": "python3"
    },
    "language_info": {
      "codemirror_mode": {
        "name": "ipython",
        "version": 3
      },
      "file_extension": ".py",
      "mimetype": "text/x-python",
      "name": "python",
      "nbconvert_exporter": "python",
      "pygments_lexer": "ipython3",
      "version": "3.8.3"
    }
  },
  "nbformat": 4,
  "nbformat_minor": 0
}